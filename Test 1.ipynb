{
 "cells": [
  {
   "cell_type": "markdown",
   "metadata": {},
   "source": [
    "1. Write a program in Python with one class called Cipher.\n",
    "Within the constructor of this class, ask user for a string\n",
    "and store it. Use a static variable, key to store a randomly\n",
    "generated integer between 1 and 50 inclusive. Implement\n",
    "two methods, encrypt and decrypt within this class. Encrypt\n",
    "generates and prints a cipher text using the user-entered\n",
    "string and the key and decrypt generates decrypted string\n",
    "from ciphertext. The cipher only encrypts alpha and\n",
    "numeric (A-Z, a-z, 0-9). All Symbols, such as - , ; %, remain\n",
    "unencrypted. The cipher text can have special characters.\n",
    "Use generator expression to filter out alpha and numeric\n",
    "characters of the input string and to generate cipher text.\n",
    "Create an instance of this class, encrypt and decrypt back\n",
    "the user entered string."
   ]
  },
  {
   "cell_type": "code",
   "execution_count": 35,
   "metadata": {},
   "outputs": [
    {
     "name": "stdout",
     "output_type": "stream",
     "text": [
      "Please enter the text to be encrypted: abc#\n",
      "The encrypted string is : ijk#\n",
      "The decrypted string is : \n"
     ]
    }
   ],
   "source": [
    "import random as rand\n",
    "import re as re\n",
    "class Cipher:\n",
    "    key=rand.randrange(1,51)\n",
    "    def __init__(self):\n",
    "        self.encr_string = input(\"Please enter the text to be encrypted: \")\n",
    "        self.decr_string=''\n",
    "        \n",
    "    def encrypt(self):\n",
    "        for i in self.encr_string:\n",
    "            if(i.isalnum()):\n",
    "                yield chr(ord(i) + self.key)\n",
    "            else:\n",
    "                yield i\n",
    "               \n",
    "                \n",
    "    def decrypt(self,decr_string):\n",
    "        for i in self.decr_string:\n",
    "            if(i.isalnum()):\n",
    "                yield chr(ord(i) - self.key)\n",
    "                \n",
    "            \n",
    "        \n",
    "e_value='' \n",
    "d_value=''\n",
    "cipher_obj=Cipher()\n",
    "gen_value=cipher_obj.encrypt()\n",
    "for i in gen_value:\n",
    "    e_value=e_value+i\n",
    "    \n",
    "print(\"The encrypted string is : \"+e_value)   \n",
    "\n",
    "dgen_value = cipher_obj.decrypt(e_value)\n",
    "for j in dgen_value:\n",
    "    d_value = d_value + j\n",
    "    \n",
    "print(\"The decrypted string is : \"+ d_value)    \n",
    "    \n",
    "    \n",
    "    \n",
    "    \n",
    "    \n",
    "\n",
    "\n",
    "\n",
    "\n",
    "\n",
    "\n",
    "\n",
    "        \n",
    "        \n",
    "        \n",
    "        \n",
    "    "
   ]
  },
  {
   "cell_type": "code",
   "execution_count": null,
   "metadata": {},
   "outputs": [],
   "source": []
  }
 ],
 "metadata": {
  "kernelspec": {
   "display_name": "Python 3",
   "language": "python",
   "name": "python3"
  },
  "language_info": {
   "codemirror_mode": {
    "name": "ipython",
    "version": 3
   },
   "file_extension": ".py",
   "mimetype": "text/x-python",
   "name": "python",
   "nbconvert_exporter": "python",
   "pygments_lexer": "ipython3",
   "version": "3.6.5"
  }
 },
 "nbformat": 4,
 "nbformat_minor": 2
}
